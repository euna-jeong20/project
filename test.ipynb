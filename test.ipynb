{
 "cells": [
  {
   "cell_type": "code",
   "execution_count": 2,
   "metadata": {},
   "outputs": [
    {
     "name": "stderr",
     "output_type": "stream",
     "text": [
      "c:\\Users\\euna\\miniconda3\\envs\\vig_project\\lib\\site-packages\\tqdm\\auto.py:22: TqdmWarning: IProgress not found. Please update jupyter and ipywidgets. See https://ipywidgets.readthedocs.io/en/stable/user_install.html\n",
      "  from .autonotebook import tqdm as notebook_tqdm\n"
     ]
    }
   ],
   "source": [
    "import torch"
   ]
  },
  {
   "cell_type": "code",
   "execution_count": 6,
   "metadata": {},
   "outputs": [
    {
     "data": {
      "text/plain": [
       "1"
      ]
     },
     "execution_count": 6,
     "metadata": {},
     "output_type": "execute_result"
    }
   ],
   "source": [
    "out_features"
   ]
  },
  {
   "cell_type": "code",
   "execution_count": null,
   "metadata": {},
   "outputs": [],
   "source": [
    " self.k = 9 # neighbor num (default:9)\n",
    "            self.conv = 'mr' # graph conv layer {edge, mr}\n",
    "            self.act = 'gelu' # activation layer {relu, prelu, leakyrelu, gelu, hswish}\n",
    "            self.norm = 'batch' # batch or instance normalization {batch, instance}\n",
    "            self.bias = True # bias of conv layer True or False\n",
    "            self.dropout = 0.0 # dropout rate\n",
    "            self.use_dilation = True # use dilated knn or not\n",
    "            self.epsilon = 0.2 # stochastic epsilon for gcn\n",
    "            self.use_stochastic = False # stochastic for gcn, True or False\n",
    "            self.drop_path = drop_path_rate\n",
    "            self.blocks = [2,2,6,2] # number of basic blocks in the backbone\n",
    "            self.channels = [48, 96, 240, 384] # number of channels of deep features\n",
    "            self.n_classes = num_classes # Dimension of out_channels\n",
    "            self.emb_dims = 1024 # Dimension of embeddings\n"
   ]
  },
  {
   "cell_type": "code",
   "execution_count": null,
   "metadata": {},
   "outputs": [],
   "source": [
    "num_features = [int(embed_dim * 2 ** i) for i in range(self.num_layers)]"
   ]
  },
  {
   "cell_type": "code",
   "execution_count": 1,
   "metadata": {},
   "outputs": [
    {
     "data": {
      "text/plain": [
       "8"
      ]
     },
     "execution_count": 1,
     "metadata": {},
     "output_type": "execute_result"
    }
   ],
   "source": [
    "2**3"
   ]
  },
  {
   "cell_type": "code",
   "execution_count": 3,
   "metadata": {},
   "outputs": [
    {
     "name": "stdout",
     "output_type": "stream",
     "text": [
      "tensor([1., 2., 3., 4., 5.])\n"
     ]
    }
   ],
   "source": [
    "import torch\n",
    "a = torch.Tensor([1,2,3,4,5])\n",
    "b = a[:10]\n",
    "print(b)"
   ]
  },
  {
   "cell_type": "code",
   "execution_count": 1,
   "metadata": {},
   "outputs": [
    {
     "data": {
      "text/plain": [
       "333"
      ]
     },
     "execution_count": 1,
     "metadata": {},
     "output_type": "execute_result"
    }
   ],
   "source": [
    "1333//4\n"
   ]
  },
  {
   "cell_type": "code",
   "execution_count": 2,
   "metadata": {},
   "outputs": [
    {
     "data": {
      "text/plain": [
       "1332"
      ]
     },
     "execution_count": 2,
     "metadata": {},
     "output_type": "execute_result"
    }
   ],
   "source": [
    "4 * (1333//4)"
   ]
  },
  {
   "cell_type": "code",
   "execution_count": 3,
   "metadata": {},
   "outputs": [
    {
     "data": {
      "text/plain": [
       "333"
      ]
     },
     "execution_count": 3,
     "metadata": {},
     "output_type": "execute_result"
    }
   ],
   "source": [
    "1332//4"
   ]
  },
  {
   "cell_type": "code",
   "execution_count": 4,
   "metadata": {},
   "outputs": [
    {
     "data": {
      "text/plain": [
       "12"
      ]
     },
     "execution_count": 4,
     "metadata": {},
     "output_type": "execute_result"
    }
   ],
   "source": [
    "sum([2,2,6,2])"
   ]
  },
  {
   "cell_type": "code",
   "execution_count": 6,
   "metadata": {},
   "outputs": [
    {
     "name": "stdout",
     "output_type": "stream",
     "text": [
      "False\n"
     ]
    }
   ],
   "source": [
    "print(False is None)"
   ]
  },
  {
   "cell_type": "code",
   "execution_count": 7,
   "metadata": {},
   "outputs": [
    {
     "name": "stdout",
     "output_type": "stream",
     "text": [
      "True\n"
     ]
    }
   ],
   "source": [
    "print(None is None)"
   ]
  },
  {
   "cell_type": "code",
   "execution_count": 10,
   "metadata": {},
   "outputs": [
    {
     "name": "stderr",
     "output_type": "stream",
     "text": [
      "c:\\Users\\euna\\miniconda3\\envs\\vig_project\\lib\\site-packages\\tqdm\\auto.py:22: TqdmWarning: IProgress not found. Please update jupyter and ipywidgets. See https://ipywidgets.readthedocs.io/en/stable/user_install.html\n",
      "  from .autonotebook import tqdm as notebook_tqdm\n"
     ]
    }
   ],
   "source": [
    "import torch"
   ]
  },
  {
   "cell_type": "code",
   "execution_count": 12,
   "metadata": {},
   "outputs": [
    {
     "name": "stdout",
     "output_type": "stream",
     "text": [
      "torch.Size([2, 3, 3])\n"
     ]
    }
   ],
   "source": [
    "a = torch.Tensor([[[0, 1, 0],\n",
    "                    [0,2,0],\n",
    "                    [0,3,0]],\n",
    "                    [[0,4,0],\n",
    "                    [0,5,0],\n",
    "                    [0,6,0]]])\n",
    "print(a.shape)"
   ]
  },
  {
   "cell_type": "code",
   "execution_count": 18,
   "metadata": {},
   "outputs": [
    {
     "name": "stdout",
     "output_type": "stream",
     "text": [
      "tensor([[[ -2.,  -4.,  -6.],\n",
      "         [ -4.,  -8., -12.],\n",
      "         [ -6., -12., -18.]],\n",
      "\n",
      "        [[-32., -40., -48.],\n",
      "         [-40., -50., -60.],\n",
      "         [-48., -60., -72.]]])\n",
      "torch.Size([2, 3, 3])\n"
     ]
    }
   ],
   "source": [
    "x_inner = -2*torch.matmul(a, a.transpose(2, 1))\n",
    "x_square = torch.sum(torch.mul(a, a), dim=-1, keepdim=True)\n",
    "\n",
    "print(x_inner)\n",
    "print(x_inner.shape)"
   ]
  },
  {
   "cell_type": "code",
   "execution_count": 17,
   "metadata": {},
   "outputs": [
    {
     "name": "stdout",
     "output_type": "stream",
     "text": [
      "tensor([[[ 1.],\n",
      "         [ 4.],\n",
      "         [ 9.]],\n",
      "\n",
      "        [[16.],\n",
      "         [25.],\n",
      "         [36.]]])\n",
      "torch.Size([2, 3, 1])\n"
     ]
    }
   ],
   "source": [
    "print(x_square)\n",
    "print(x_square.shape)"
   ]
  },
  {
   "cell_type": "code",
   "execution_count": 24,
   "metadata": {},
   "outputs": [
    {
     "name": "stdout",
     "output_type": "stream",
     "text": [
      "tensor([[[0., 1., 4.],\n",
      "         [1., 0., 1.],\n",
      "         [4., 1., 0.]],\n",
      "\n",
      "        [[0., 1., 4.],\n",
      "         [1., 0., 1.],\n",
      "         [4., 1., 0.]]])\n"
     ]
    }
   ],
   "source": [
    "dist = x_square + x_inner + x_square.transpose(2, 1)\n",
    "print(dist)"
   ]
  },
  {
   "cell_type": "code",
   "execution_count": 22,
   "metadata": {},
   "outputs": [],
   "source": [
    "nn_val, nn_idx = torch.topk(-dist, k=2)"
   ]
  },
  {
   "cell_type": "code",
   "execution_count": 23,
   "metadata": {},
   "outputs": [
    {
     "data": {
      "text/plain": [
       "tensor([[[-0., -1.],\n",
       "         [-0., -1.],\n",
       "         [-0., -1.]],\n",
       "\n",
       "        [[-0., -1.],\n",
       "         [-0., -1.],\n",
       "         [-0., -1.]]])"
      ]
     },
     "execution_count": 23,
     "metadata": {},
     "output_type": "execute_result"
    }
   ],
   "source": [
    "nn_val"
   ]
  },
  {
   "cell_type": "code",
   "execution_count": 25,
   "metadata": {},
   "outputs": [
    {
     "data": {
      "text/plain": [
       "tensor([[[0, 1],\n",
       "         [1, 0],\n",
       "         [2, 1]],\n",
       "\n",
       "        [[0, 1],\n",
       "         [1, 0],\n",
       "         [2, 1]]])"
      ]
     },
     "execution_count": 25,
     "metadata": {},
     "output_type": "execute_result"
    }
   ],
   "source": [
    "nn_idx"
   ]
  },
  {
   "cell_type": "code",
   "execution_count": 28,
   "metadata": {},
   "outputs": [
    {
     "name": "stdout",
     "output_type": "stream",
     "text": [
      "torch.Size([1, 3, 1, 3])\n",
      "torch.Size([1, 3, 1, 3])\n",
      "tensor([[[[1., 2., 3.]],\n",
      "\n",
      "         [[4., 5., 6.]],\n",
      "\n",
      "         [[7., 8., 9.]]]])\n"
     ]
    }
   ],
   "source": [
    "b = torch.Tensor([[[[1, 2, 3]],\n",
    "              [[4, 5, 6]],\n",
    "              [[7, 8, 9]]]])\n",
    "print(b.shape)\n",
    "b = b[:,:,:,::1]\n",
    "print(b.shape)\n",
    "print(b)"
   ]
  },
  {
   "cell_type": "code",
   "execution_count": 30,
   "metadata": {},
   "outputs": [
    {
     "name": "stdout",
     "output_type": "stream",
     "text": [
      "torch.Size([2, 2, 3])\n"
     ]
    }
   ],
   "source": [
    "idx = torch.arange(0, 3).repeat(2,2,1)\n",
    "print(idx.shape)"
   ]
  },
  {
   "cell_type": "code",
   "execution_count": 38,
   "metadata": {},
   "outputs": [],
   "source": [
    "import torch.nn as nn\n",
    "in_dim = 3\n",
    "out_dim = 768\n",
    "\n",
    "m = nn.Sequential(\n",
    "            nn.Conv2d(in_dim, out_dim//2, 3, stride=2, padding=1),\n",
    "            \n",
    "\n",
    "            nn.Conv2d(out_dim//2, out_dim, 3, stride=2, padding=1),\n",
    "            nn.Conv2d(out_dim, out_dim, 3, stride=1, padding=1),\n",
    "        )\n",
    "input = torch.randn(2, 3, 1333, 800)\n",
    "output1 = m[0](input)\n",
    "output2 = m[1](output1)\n",
    "output3 = m[2](output2)"
   ]
  },
  {
   "cell_type": "code",
   "execution_count": 39,
   "metadata": {},
   "outputs": [
    {
     "name": "stdout",
     "output_type": "stream",
     "text": [
      "torch.Size([2, 384, 667, 400])\n",
      "torch.Size([2, 768, 334, 200])\n",
      "torch.Size([2, 768, 334, 200])\n"
     ]
    }
   ],
   "source": [
    "print(output1.shape)\n",
    "print(output2.shape)\n",
    "print(output3.shape)"
   ]
  },
  {
   "cell_type": "code",
   "execution_count": 41,
   "metadata": {},
   "outputs": [
    {
     "data": {
      "text/plain": [
       "torch.Size([1, 80, 333, 200])"
      ]
     },
     "execution_count": 41,
     "metadata": {},
     "output_type": "execute_result"
    }
   ],
   "source": [
    "nn.Parameter(torch.zeros(1, 80, 1333//4, 800//4)).shape\n",
    "\n"
   ]
  },
  {
   "cell_type": "code",
   "execution_count": 6,
   "metadata": {},
   "outputs": [
    {
     "name": "stdout",
     "output_type": "stream",
     "text": [
      "tensor([[[0, 1],\n",
      "         [0, 1]]])\n",
      "torch.Size([1, 2, 2])\n"
     ]
    }
   ],
   "source": [
    "a = torch.arange(0,2).repeat(1, 2, 1)\n",
    "print(a)\n",
    "print(a.shape)"
   ]
  },
  {
   "cell_type": "code",
   "execution_count": null,
   "metadata": {},
   "outputs": [],
   "source": []
  },
  {
   "cell_type": "code",
   "execution_count": 20,
   "metadata": {},
   "outputs": [],
   "source": [
    "a = torch.randn((2,2))\n",
    "b = torch.randn((2,2))\n",
    "\n",
    "x1, _= torch.max(a-b,0)\n",
    "x2, _ = torch.max(a-b,-1)\n",
    "\n",
    "x3, _= torch.max(a-b,0, keepdim=True)\n",
    "x4, _ = torch.max(a-b,-1, keepdim=True)"
   ]
  },
  {
   "cell_type": "code",
   "execution_count": 21,
   "metadata": {},
   "outputs": [
    {
     "data": {
      "text/plain": [
       "tensor([[ 0.0522, -1.3117],\n",
       "        [-1.2525, -1.0966]])"
      ]
     },
     "execution_count": 21,
     "metadata": {},
     "output_type": "execute_result"
    }
   ],
   "source": [
    "a-b"
   ]
  },
  {
   "cell_type": "code",
   "execution_count": 22,
   "metadata": {},
   "outputs": [
    {
     "name": "stdout",
     "output_type": "stream",
     "text": [
      "tensor([ 0.0522, -1.0966])\n",
      "tensor([ 0.0522, -1.0966])\n",
      "tensor([[ 0.0522, -1.0966]])\n",
      "tensor([[ 0.0522],\n",
      "        [-1.0966]])\n"
     ]
    }
   ],
   "source": [
    "print(x1)\n",
    "print(x2)\n",
    "print(x3)\n",
    "print(x4)"
   ]
  },
  {
   "cell_type": "code",
   "execution_count": 24,
   "metadata": {},
   "outputs": [
    {
     "name": "stdout",
     "output_type": "stream",
     "text": [
      "torch.Size([1, 3136, 9])\n"
     ]
    }
   ],
   "source": [
    "a = torch.randn((2,1,3136,9))\n",
    "print(a[0].shape)"
   ]
  },
  {
   "cell_type": "code",
   "execution_count": 26,
   "metadata": {},
   "outputs": [
    {
     "data": {
      "text/plain": [
       "tensor([0, 1, 0])"
      ]
     },
     "execution_count": 26,
     "metadata": {},
     "output_type": "execute_result"
    }
   ],
   "source": [
    "torch.tensor([1,1,1]) - torch.tensor([1, 0, 1])"
   ]
  },
  {
   "cell_type": "code",
   "execution_count": null,
   "metadata": {},
   "outputs": [],
   "source": []
  }
 ],
 "metadata": {
  "kernelspec": {
   "display_name": "Python 3.10.8 ('vig_project')",
   "language": "python",
   "name": "python3"
  },
  "language_info": {
   "codemirror_mode": {
    "name": "ipython",
    "version": 3
   },
   "file_extension": ".py",
   "mimetype": "text/x-python",
   "name": "python",
   "nbconvert_exporter": "python",
   "pygments_lexer": "ipython3",
   "version": "3.10.8"
  },
  "orig_nbformat": 4,
  "vscode": {
   "interpreter": {
    "hash": "4fd94704edb0bfd27a3dedd8a3de6872643e9f4150683820a21b53f430d40a31"
   }
  }
 },
 "nbformat": 4,
 "nbformat_minor": 2
}
